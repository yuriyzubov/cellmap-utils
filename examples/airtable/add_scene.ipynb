{
 "cells": [
  {
   "cell_type": "code",
   "execution_count": 2,
   "metadata": {},
   "outputs": [],
   "source": [
    "import os\n",
    "from pyairtable import Api\n",
    "from dotenv import load_dotenv\n",
    "from cellmap_utils.airtable.scene import upsert_record_scene_tables\n",
    "load_dotenv()\n",
    "\n",
    "api = Api(os.environ['AIRTABLE_API_KEY'])\n",
    "# image table (switch between prod and test bases in .env)\n",
    "image_table = api.table(os.environ['AIRTABLE_BASE_ID'], os.environ['IMAGE_TABLE_ID'])\n",
    "scene_table = api.table(os.environ['AIRTABLE_BASE_ID'], os.environ['SCENE_TABLE_ID'])\n",
    "scene_to_image_table = api.table(os.environ['AIRTABLE_BASE_ID'], os.environ['SCENE_TO_IMAGE_ID'])"
   ]
  },
  {
   "cell_type": "code",
   "execution_count": null,
   "metadata": {},
   "outputs": [],
   "source": [
    "upsert_record_scene_tables(scene_table,\n",
    "                           scene_to_image_table,\n",
    "                           image_table,\n",
    "                           'image_record_location')"
   ]
  }
 ],
 "metadata": {
  "kernelspec": {
   "display_name": "env1",
   "language": "python",
   "name": "python3"
  },
  "language_info": {
   "codemirror_mode": {
    "name": "ipython",
    "version": 3
   },
   "file_extension": ".py",
   "mimetype": "text/x-python",
   "name": "python",
   "nbconvert_exporter": "python",
   "pygments_lexer": "ipython3",
   "version": "3.11.11"
  }
 },
 "nbformat": 4,
 "nbformat_minor": 2
}
