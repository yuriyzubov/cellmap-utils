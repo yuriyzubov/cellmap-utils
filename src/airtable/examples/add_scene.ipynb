{
 "cells": [
  {
   "cell_type": "code",
   "execution_count": null,
   "metadata": {
    "vscode": {
     "languageId": "plaintext"
    }
   },
   "outputs": [],
   "source": [
    "import os\n",
    "from pyairtable import Api\n",
    "from dotenv import load_dotenv\n",
    "from scene import upsert_record_scene_tables\n",
    "load_dotenv()\n",
    "\n",
    "api = Api(os.environ['AIRTABLE_API_KEY'])\n",
    "# image table (switch between prod and test bases in .env)\n",
    "image_table = api.table(os.environ['AIRTABLE_BASE_ID'], os.environ['IMAGE_TABLE_ID'])\n",
    "scene_table = api.table(os.environ['AIRTABLE_BASE_ID'], os.environ['SCENE_TABLE_ID'])\n",
    "scene_to_image_table = api.table(os.environ['AIRTABLE_BASE_ID'], os.environ['SCENE_TO_IMAGE_ID'])"
   ]
  },
  {
   "cell_type": "code",
   "execution_count": null,
   "metadata": {
    "vscode": {
     "languageId": "plaintext"
    }
   },
   "outputs": [],
   "source": [
    "upsert_record_scene_tables(scene_table,\n",
    "                           scene_to_image_table,\n",
    "                           image_table,\n",
    "                           'image_record_location')"
   ]
  }
 ],
 "metadata": {
  "language_info": {
   "name": "python"
  }
 },
 "nbformat": 4,
 "nbformat_minor": 2
}
